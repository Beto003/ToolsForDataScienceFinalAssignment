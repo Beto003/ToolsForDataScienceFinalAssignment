{
 "cells": [
  {
   "cell_type": "markdown",
   "id": "b83a2925-0a96-4a39-a7a8-eb103bf8ae87",
   "metadata": {},
   "source": [
    "# Data Science Tools and Ecosystem"
   ]
  },
  {
   "cell_type": "markdown",
   "id": "4f4654f2-6c70-43bb-9ff9-8f728913eab6",
   "metadata": {},
   "source": [
    "In this notebook, Data Science Tools and Ecosystem are summarized."
   ]
  },
  {
   "cell_type": "markdown",
   "id": "11cec7b1-72d7-410f-99fa-4dcb4600e9d8",
   "metadata": {},
   "source": [
    "**Objectives:**\n",
    "- List popular languages for Data Science\n",
    "- List commonly used libraries used by Data Scientists\n",
    "- List some useful development environment open source tools used in Data Science\n",
    "- Code for evaluating simple arithmetic expressions"
   ]
  },
  {
   "cell_type": "markdown",
   "id": "3e836478-9418-41fd-95bd-7d0bc0280939",
   "metadata": {},
   "source": [
    "Some of the popular languages that Data Scientists use are:\n",
    "1. Python\n",
    "2. R\n",
    "3. Julia"
   ]
  },
  {
   "cell_type": "markdown",
   "id": "193d1443-4199-4038-98b9-f726f928c43c",
   "metadata": {},
   "source": [
    "Some of the commonly used libraries used by Data Scientists include:\n",
    "1. Matplolib\n",
    "2. Numpy\n",
    "3. Scikit-learn\n",
    "4. ggplot2 (R)"
   ]
  },
  {
   "cell_type": "markdown",
   "id": "50a618e5-2476-4f62-ad1f-fa5ba05760be",
   "metadata": {},
   "source": [
    "| Data Science Tools |\n",
    "|--------------------|\n",
    "|Jupyter Lab         |\n",
    "|Apache Zeppelin     |\n",
    "|RStudio             |\n"
   ]
  },
  {
   "cell_type": "markdown",
   "id": "d408326f-26c9-4624-85df-c3b6e85513cf",
   "metadata": {
    "tags": []
   },
   "source": [
    "### Below are a few examples of evaluating arithmetic expressions in Python"
   ]
  },
  {
   "cell_type": "code",
   "execution_count": 3,
   "id": "aaa50c04-ef3b-4322-a8a2-0c3b551f2aa2",
   "metadata": {},
   "outputs": [
    {
     "data": {
      "text/plain": [
       "17"
      ]
     },
     "execution_count": 3,
     "metadata": {},
     "output_type": "execute_result"
    }
   ],
   "source": [
    "# This is a simple arithmetic expression to multiply then add integers\n",
    "(3*4)+5"
   ]
  },
  {
   "cell_type": "code",
   "execution_count": 5,
   "id": "375bfe31-3a55-4bc4-9080-1cb900638624",
   "metadata": {
    "tags": []
   },
   "outputs": [
    {
     "data": {
      "text/plain": [
       "3.3333333333333335"
      ]
     },
     "execution_count": 5,
     "metadata": {},
     "output_type": "execute_result"
    }
   ],
   "source": [
    "# This will convert 200 minutes to hours by dividing by 60\n",
    "minutes = 200\n",
    "hours = minutes * (1/60)\n",
    "hours"
   ]
  },
  {
   "cell_type": "markdown",
   "id": "78e63e93-880f-445a-8f52-554bbe07d05a",
   "metadata": {},
   "source": [
    "## Author\n",
    "Alberto Anaya Velasco"
   ]
  }
 ],
 "metadata": {
  "kernelspec": {
   "display_name": "Python 3 (ipykernel)",
   "language": "python",
   "name": "python3"
  },
  "language_info": {
   "codemirror_mode": {
    "name": "ipython",
    "version": 3
   },
   "file_extension": ".py",
   "mimetype": "text/x-python",
   "name": "python",
   "nbconvert_exporter": "python",
   "pygments_lexer": "ipython3",
   "version": "3.10.6"
  }
 },
 "nbformat": 4,
 "nbformat_minor": 5
}
